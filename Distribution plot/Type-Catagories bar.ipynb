{
 "cells": [
  {
   "cell_type": "code",
   "execution_count": null,
   "metadata": {
    "collapsed": false
   },
   "outputs": [],
   "source": [
    "import pandas as pd\n",
    "import numpy as np\n",
    "import matplotlib\n",
    "\n",
    "import plotly.offline as py\n",
    "from plotly.graph_objs import Scatter, Layout, Figure, Data, Stream, YAxis\n",
    "\n",
    "py.init_notebook_mode() # graphs charts inline (IPython)\n",
    "\n",
    "import random as rd"
   ]
  },
  {
   "cell_type": "code",
   "execution_count": null,
   "metadata": {
    "collapsed": false
   },
   "outputs": [],
   "source": [
    "type_list = [\"type1\",\"type2\",\"type3\",\"type4\",\"type5\",\"type6\"]\n",
    "catagory_list = [\"cat1\",\"cat2\",\"cat3\",\"cat4\"]\n",
    "\n",
    "data_dict = {}\n",
    "for type_index in type_list:\n",
    "    data_dict[type_index] = {}\n",
    "    for cat_index in catagory_list:\n",
    "        data_dict[type_index][cat_index] = rd.randint(1,50)\n",
    "\n",
    "print(data_dict)"
   ]
  },
  {
   "cell_type": "code",
   "execution_count": null,
   "metadata": {
    "collapsed": false
   },
   "outputs": [],
   "source": [
    "traces = []\n",
    "for cat_index in catagory_list:\n",
    "    traces.append({\n",
    "        'x': range(len(type_list)),\n",
    "        'y': [data_dict[i][cat_index] for i in type_list],\n",
    "        'name': cat_index,\n",
    "        'type': 'bar'\n",
    "    })\n",
    "\n",
    "py.iplot({\n",
    "    'data': traces, \n",
    "    'layout': {\n",
    "        'barmode': 'stack',\n",
    "        'xaxis': {'title': 'Catagories'},\n",
    "        'yaxis': {'title': 'Types'},\n",
    "        'title': 'Distribution bar plot'\n",
    "    }})"
   ]
  },
  {
   "cell_type": "code",
   "execution_count": null,
   "metadata": {
    "collapsed": true
   },
   "outputs": [],
   "source": []
  }
 ],
 "metadata": {
  "anaconda-cloud": {},
  "kernelspec": {
   "display_name": "Python [default]",
   "language": "python",
   "name": "python2"
  },
  "language_info": {
   "codemirror_mode": {
    "name": "ipython",
    "version": 2
   },
   "file_extension": ".py",
   "mimetype": "text/x-python",
   "name": "python",
   "nbconvert_exporter": "python",
   "pygments_lexer": "ipython2",
   "version": "2.7.12"
  }
 },
 "nbformat": 4,
 "nbformat_minor": 2
}
