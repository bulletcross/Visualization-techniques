{
 "cells": [
  {
   "cell_type": "code",
   "execution_count": null,
   "metadata": {
    "collapsed": false
   },
   "outputs": [],
   "source": [
    "\n",
    "import numpy as np\n",
    "import pandas as pd\n",
    "import plotly.offline as py\n",
    "\n",
    "#Widgets for plot application\n",
    "from ipywidgets import widgets \n",
    "from IPython.display import display, clear_output, Image\n",
    "import plotly.graph_objs as go\n",
    "from plotly.widgets import GraphWidget\n",
    "\n",
    "import matplotlib\n",
    "import cufflinks as cf\n",
    "import plotly\n",
    "\n",
    "import random as rd\n",
    "\n",
    "cf.go_offline() # required to use plotly offline (no account required).\n",
    "py.init_notebook_mode() # graphs charts inline (IPython).\n"
   ]
  },
  {
   "cell_type": "code",
   "execution_count": null,
   "metadata": {
    "collapsed": false
   },
   "outputs": [],
   "source": [
    "\n",
    "#Creating database of pollution captured for three different vehicles with respect to time (Sampled at every minutes for 24 hours)\n",
    "\n",
    "car_company = ['Maruti','Tata','Mahindra']\n",
    "nr_samples = 60*24 -1\n",
    "data_list = []\n",
    "for i in range(0,nr_samples):\n",
    "    random_car = rd.randint(0,2)\n",
    "    random_pollution = rd.randint(1,51)\n",
    "    data_list.append([car_company[random_car],random_pollution])\n",
    "df = pd.DataFrame(data_list)\n",
    "\n",
    "#df[0:3]"
   ]
  },
  {
   "cell_type": "code",
   "execution_count": null,
   "metadata": {
    "collapsed": false
   },
   "outputs": [],
   "source": [
    "#Define seed starting and ending time for pollution contribution\n",
    "start = 0\n",
    "end = nr_samples\n",
    "\n",
    "labels = car_company\n",
    "values = [1,1,1]\n",
    "\n",
    "new_df = df[start:end]\n",
    "\n",
    "for i in range(0,len(car_company)):\n",
    "    values[i] = new_df[(new_df[0]==car_company[i])][1].sum()\n",
    "\n",
    "#Creating placeholders for widget\n",
    "\n",
    "trace = go.Pie(labels=labels, values=values,name='Pollution',hole = 0.4)\n",
    "data = go.Data([trace])\n",
    "layout = {\"title\": \"Pie chart for pollution by different car company\"}\n",
    "fig = go.Figure(data=data,layout=layout)\n",
    "pie_plot = py.plot(fig,auto_open=False)\n",
    "\n",
    "#Create default pie chart widget\n",
    "g = GraphWidget(pie_plot)\n",
    "#display(g) -> Not working on my jupyter! (https://github.com/jupyter-widgets/ipywidgets/blob/master/README.md)"
   ]
  },
  {
   "cell_type": "code",
   "execution_count": null,
   "metadata": {
    "collapsed": true
   },
   "outputs": [],
   "source": [
    "#Create two sliders to choose the range\n",
    "start_time = widgets.FloatSlider(\n",
    "    value=0,\n",
    "    min=0,\n",
    "    max=nr_samples-1,\n",
    "    step=1.0,\n",
    "    description='start_stamp',\n",
    "    continuous_update = False\n",
    ")\n",
    "\n",
    "\n",
    "\n",
    "end_time = widgets.FloatSlider(\n",
    "    value=nr_samples,\n",
    "    min=1,\n",
    "    max=nr_samples,\n",
    "    step=1.0,\n",
    "    description='end_stamp',\n",
    "    continuous_update = False\n",
    ")\n",
    "\n",
    "#Put in a container all the widgets\n",
    "container = widgets.HBox(children=[start_time,end_time])"
   ]
  },
  {
   "cell_type": "code",
   "execution_count": null,
   "metadata": {
    "collapsed": false
   },
   "outputs": [],
   "source": [
    "#Interactive response functions and checks\n",
    "def all_good():\n",
    "    if start_time.value <= end_time.value:\n",
    "        return True\n",
    "    else:\n",
    "        return False\n",
    "    \n",
    "def re_compute(change):\n",
    "    if all_good():\n",
    "        temp_df = df[int(start_time.value):int(end_time.value)]\n",
    "        new_values = [0,0,0]\n",
    "        for i in range(0,len(car_company)):\n",
    "            new_values[i] = temp_df[(temp_df[0]==car_company[i])][1].sum()\n",
    "        print(new_values)\n",
    "        new_values = [1,4,6]\n",
    "        g.restyle({'labels':labels, 'values': new_values, 'name': 'Pollution','hole': 0.4})\n",
    "        g.relayout({'title':'Pollution'})\n",
    "\n",
    "#Associate observer to value parameter\n",
    "start_time.observe(re_compute, names=\"value\")\n",
    "end_time.observe(re_compute, names=\"value\")"
   ]
  },
  {
   "cell_type": "code",
   "execution_count": null,
   "metadata": {
    "collapsed": false
   },
   "outputs": [],
   "source": [
    "display(container)\n",
    "display(g)"
   ]
  },
  {
   "cell_type": "code",
   "execution_count": null,
   "metadata": {
    "collapsed": true
   },
   "outputs": [],
   "source": []
  }
 ],
 "metadata": {
  "anaconda-cloud": {},
  "kernelspec": {
   "display_name": "Python [conda root]",
   "language": "python",
   "name": "conda-root-py"
  },
  "language_info": {
   "codemirror_mode": {
    "name": "ipython",
    "version": 2
   },
   "file_extension": ".py",
   "mimetype": "text/x-python",
   "name": "python",
   "nbconvert_exporter": "python",
   "pygments_lexer": "ipython2",
   "version": "2.7.12"
  }
 },
 "nbformat": 4,
 "nbformat_minor": 2
}
