{
 "cells": [
  {
   "cell_type": "code",
   "execution_count": 1,
   "metadata": {},
   "outputs": [
    {
     "name": "stderr",
     "output_type": "stream",
     "text": [
      "C:\\Program Files\\Anaconda2\\lib\\site-packages\\IPython\\html.py:14: ShimWarning:\n",
      "\n",
      "The `IPython.html` package has been deprecated. You should import from `notebook` instead. `IPython.html.widgets` has moved to `ipywidgets`.\n",
      "\n",
      "C:\\Program Files\\Anaconda2\\lib\\site-packages\\IPython\\utils\\traitlets.py:5: UserWarning:\n",
      "\n",
      "IPython.utils.traitlets has moved to a top-level traitlets package.\n",
      "\n"
     ]
    },
    {
     "data": {
      "application/javascript": [
       "window.genUID = function() {\n",
       "    return 'xxxxxxxx-xxxx-4xxx-yxxx-xxxxxxxxxxxx'.replace(/[xy]/g, function(c) {\n",
       "        var r = Math.random()*16|0, v = c == 'x' ? r : (r&0x3|0x8);\n",
       "        return v.toString(16);\n",
       "    });\n",
       "};\n",
       "\n",
       "var IPYTHON_VERSION = '3';\n",
       "\n",
       "require([\"widgets/js/widget\", \"widgets/js/manager\"], function (widget, manager) {\n",
       "    if (!('DOMWidgetView' in widget)) {\n",
       "\n",
       "        // we're in IPython2, things moved a bit from 2 --> 3.\n",
       "        // construct the expected IPython3 widget API\n",
       "        IPYTHON_VERSION = '2';\n",
       "        manager = {WidgetManager: widget};\n",
       "        widget = {DOMWidgetView: IPython.DOMWidgetView};\n",
       "    }\n",
       "\n",
       "    var GraphView = widget.DOMWidgetView.extend({\n",
       "        render: function(){\n",
       "            var that = this;\n",
       "\n",
       "            var graphId = window.genUID();\n",
       "            var loadingId = 'loading-'+graphId;\n",
       "\n",
       "\n",
       "            var _graph_url = that.model.get('_graph_url');\n",
       "\n",
       "            // variable plotlyDomain in the case of enterprise\n",
       "            var url_parts = _graph_url.split('/');\n",
       "            var plotlyDomain = url_parts[0] + '//' + url_parts[2];\n",
       "\n",
       "            if(!('plotlyDomains' in window)){\n",
       "                window.plotlyDomains = {};\n",
       "            }\n",
       "            window.plotlyDomains[graphId] = plotlyDomain;\n",
       "\n",
       "            // Place IFrame in output cell div `$el`\n",
       "            that.$el.css('width', '100%');\n",
       "            that.$graph = $(['<iframe id=\"'+graphId+'\"',\n",
       "                             'src=\"'+_graph_url+'.embed\"',\n",
       "                             'seamless',\n",
       "                             'style=\"border: none;\"',\n",
       "                             'width=\"100%\"',\n",
       "                             'height=\"600\">',\n",
       "                             '</iframe>'].join(' '));\n",
       "            that.$graph.appendTo(that.$el);\n",
       "\n",
       "            that.$loading = $('<div id=\"'+loadingId+'\">Initializing...</div>')\n",
       "                            .appendTo(that.$el);\n",
       "\n",
       "            // for some reason the 'width' is being changed in IPython 3.0.0\n",
       "            // for the containing `div` element. There's a flicker here, but\n",
       "            // I was unable to fix it otherwise.\n",
       "            setTimeout(function ()  {\n",
       "                if (IPYTHON_VERSION === '3') {\n",
       "                    $('#' + graphId)[0].parentElement.style.width = '100%';\n",
       "                }\n",
       "            }, 500);\n",
       "\n",
       "            // initialize communication with the iframe\n",
       "            if(!('pingers' in window)){\n",
       "                window.pingers = {};\n",
       "            }\n",
       "\n",
       "            window.pingers[graphId] = setInterval(function() {\n",
       "                that.graphContentWindow = $('#'+graphId)[0].contentWindow;\n",
       "                that.graphContentWindow.postMessage({task: 'ping'}, plotlyDomain);\n",
       "            }, 200);\n",
       "\n",
       "            // Assign a message listener to the 'message' events\n",
       "            // from iframe's postMessage protocol.\n",
       "            // Filter the messages by iframe src so that the right message\n",
       "            // gets passed to the right widget\n",
       "            if(!('messageListeners' in window)){\n",
       "                 window.messageListeners = {};\n",
       "            }\n",
       "\n",
       "            window.messageListeners[graphId] = function(e) {\n",
       "                if(_graph_url.indexOf(e.origin)>-1) {\n",
       "                    var frame = document.getElementById(graphId);\n",
       "\n",
       "                    if(frame === null){\n",
       "                        // frame doesn't exist in the dom anymore, clean up it's old event listener\n",
       "                        window.removeEventListener('message', window.messageListeners[graphId]);\n",
       "                        clearInterval(window.pingers[graphId]);\n",
       "                    } else if(frame.contentWindow === e.source) {\n",
       "                        // TODO: Stop event propagation, so each frame doesn't listen and filter\n",
       "                        var frameContentWindow = $('#'+graphId)[0].contentWindow;\n",
       "                        var message = e.data;\n",
       "\n",
       "                        if('pong' in message && message.pong) {\n",
       "                            $('#loading-'+graphId).hide();\n",
       "                            clearInterval(window.pingers[graphId]);\n",
       "                            that.send({event: 'pong', graphId: graphId});\n",
       "                        } else if (message.type==='hover' ||\n",
       "                                   message.type==='zoom'  ||\n",
       "                                   message.type==='click' ||\n",
       "                                   message.type==='unhover') {\n",
       "\n",
       "                            // click and hover events contain all of the data in the traces,\n",
       "                            // which can be a very large object and may take a ton of time\n",
       "                            // to pass to the python backend. Strip out the data, and require\n",
       "                            // the user to call get_figure if they need trace information\n",
       "                            if(message.type !== 'zoom') {\n",
       "                                for(var i in message.points) {\n",
       "                                    delete message.points[i].data;\n",
       "                                    delete message.points[i].fullData;\n",
       "                                }\n",
       "                            }\n",
       "                            that.send({event: message.type, message: message, graphId: graphId});\n",
       "                        } else if (message.task === 'getAttributes') {\n",
       "                            that.send({event: 'getAttributes', response: message.response});\n",
       "                        }\n",
       "                    }\n",
       "                }\n",
       "            };\n",
       "\n",
       "            window.removeEventListener('message', window.messageListeners[graphId]);\n",
       "            window.addEventListener('message', window.messageListeners[graphId]);\n",
       "\n",
       "        },\n",
       "\n",
       "        update: function() {\n",
       "            // Listen for messages from the graph widget in python\n",
       "            var jmessage = this.model.get('_message');\n",
       "            var message = JSON.parse(jmessage);\n",
       "\n",
       "            // check for duplicate messages\n",
       "            if(!('messageIds' in window)){\n",
       "                window.messageIds = {};\n",
       "            }\n",
       "\n",
       "            if(!(message.uid in window.messageIds)){\n",
       "                // message hasn't been received yet, do stuff\n",
       "                window.messageIds[message.uid] = true;\n",
       "\n",
       "                if (message.fadeTo) {\n",
       "                    this.fadeTo(message);\n",
       "                } else {\n",
       "                    var plot = $('#' + message.graphId)[0].contentWindow;\n",
       "                    plot.postMessage(message, window.plotlyDomains[message.graphId]);\n",
       "                }\n",
       "            }\n",
       "\n",
       "            return GraphView.__super__.update.apply(this);\n",
       "        },\n",
       "\n",
       "        /**\n",
       "         * Wrapper for jquery's `fadeTo` function.\n",
       "         *\n",
       "         * @param message Contains the id we need to find the element.\n",
       "         */\n",
       "        fadeTo: function (message) {\n",
       "            var plot = $('#' + message.graphId);\n",
       "            plot.fadeTo(message.duration, message.opacity);\n",
       "        }\n",
       "    });\n",
       "\n",
       "    // Register the GraphView with the widget manager.\n",
       "    manager.WidgetManager.register_widget_view('GraphView', GraphView);\n",
       "\n",
       "});\n",
       "\n",
       "//@ sourceURL=graphWidget.js\n"
      ],
      "text/plain": [
       "<IPython.core.display.Javascript object>"
      ]
     },
     "metadata": {},
     "output_type": "display_data"
    },
    {
     "name": "stderr",
     "output_type": "stream",
     "text": [
      "IOPub data rate exceeded.\n",
      "The notebook server will temporarily stop sending output\n",
      "to the client in order to avoid crashing it.\n",
      "To change this limit, set the config variable\n",
      "`--NotebookApp.iopub_data_rate_limit`.\n"
     ]
    }
   ],
   "source": [
    "\n",
    "import numpy as np\n",
    "import pandas as pd\n",
    "import plotly.offline as py\n",
    "\n",
    "#Widgets for plot application\n",
    "from ipywidgets import widgets \n",
    "from IPython.display import display, clear_output, Image\n",
    "#from notebook.display import display\n",
    "import plotly.graph_objs as go\n",
    "from plotly.widgets import GraphWidget\n",
    "\n",
    "import matplotlib\n",
    "import cufflinks as cf\n",
    "import plotly\n",
    "\n",
    "import random as rd\n",
    "\n",
    "cf.go_offline() # required to use plotly offline (no account required).\n",
    "py.init_notebook_mode() # graphs charts inline (IPython).\n"
   ]
  },
  {
   "cell_type": "code",
   "execution_count": 2,
   "metadata": {
    "collapsed": true
   },
   "outputs": [],
   "source": [
    "\n",
    "#Creating database of pollution captured for three different vehicles with respect to time (Sampled at every minutes for 24 hours)\n",
    "\n",
    "car_company = ['Maruti','Tata','Mahindra']\n",
    "nr_samples = 60*24 -1\n",
    "data_list = []\n",
    "for i in range(0,nr_samples):\n",
    "    random_car = rd.randint(0,2)\n",
    "    random_pollution = rd.randint(1,51)\n",
    "    data_list.append([car_company[random_car],random_pollution])\n",
    "df = pd.DataFrame(data_list)\n",
    "\n",
    "#df[0:3]"
   ]
  },
  {
   "cell_type": "code",
   "execution_count": 6,
   "metadata": {},
   "outputs": [
    {
     "data": {
      "application/vnd.jupyter.widget-view+json": {
       "model_id": "94e8ba88d4094d20b8d17c752f82f320"
      }
     },
     "metadata": {},
     "output_type": "display_data"
    }
   ],
   "source": [
    "#Define seed starting and ending time for pollution contribution\n",
    "start = 0\n",
    "end = nr_samples\n",
    "\n",
    "labels = car_company\n",
    "values = [1,1,1]\n",
    "\n",
    "new_df = df[start:end]\n",
    "\n",
    "for i in range(0,len(car_company)):\n",
    "    values[i] = new_df[(new_df[0]==car_company[i])][1].sum()\n",
    "\n",
    "#Creating placeholders for widget\n",
    "\n",
    "trace = go.Pie(labels=labels, values=values,name='Pollution',hole = 0.4)\n",
    "data = go.Data([trace])\n",
    "layout = {\"title\": \"Pie chart for pollution by different car company\"}\n",
    "fig = go.Figure(data=data,layout=layout)\n",
    "pie_plot = py.plot(fig,auto_open=False)\n",
    "\n",
    "#Create default pie chart widget\n",
    "g = GraphWidget(pie_plot)\n",
    "#display(g) -> Not working on my jupyter! (https://github.com/jupyter-widgets/ipywidgets/blob/master/README.md)\n",
    "display(g)\n",
    "g.plot(fig)"
   ]
  },
  {
   "cell_type": "code",
   "execution_count": 7,
   "metadata": {
    "collapsed": true
   },
   "outputs": [],
   "source": [
    "#Create two sliders to choose the range\n",
    "start_time = widgets.FloatSlider(\n",
    "    value=0,\n",
    "    min=0,\n",
    "    max=nr_samples-1,\n",
    "    step=1.0,\n",
    "    description='start_stamp',\n",
    "    continuous_update = False\n",
    ")\n",
    "\n",
    "\n",
    "\n",
    "end_time = widgets.FloatSlider(\n",
    "    value=nr_samples,\n",
    "    min=1,\n",
    "    max=nr_samples,\n",
    "    step=1.0,\n",
    "    description='end_stamp',\n",
    "    continuous_update = False\n",
    ")\n",
    "\n",
    "#Put in a container all the widgets\n",
    "container = widgets.HBox(children=[start_time,end_time])"
   ]
  },
  {
   "cell_type": "code",
   "execution_count": 8,
   "metadata": {
    "collapsed": true
   },
   "outputs": [],
   "source": [
    "#Interactive response functions and checks\n",
    "def all_good():\n",
    "    if start_time.value <= end_time.value:\n",
    "        return True\n",
    "    else:\n",
    "        return False\n",
    "    \n",
    "def re_compute(change):\n",
    "    if all_good():\n",
    "        temp_df = df[int(start_time.value):int(end_time.value)]\n",
    "        new_values = [0,0,0]\n",
    "        for i in range(0,len(car_company)):\n",
    "            new_values[i] = temp_df[(temp_df[0]==car_company[i])][1].sum()\n",
    "        print(new_values)\n",
    "        new_values = [1,4,6]\n",
    "        g.restyle({'labels':labels, 'values': new_values, 'name': 'Pollution','hole': 0.4})\n",
    "        g.relayout({'title':'Pollution'})\n",
    "\n",
    "#Associate observer to value parameter\n",
    "start_time.observe(re_compute, names=\"value\")\n",
    "end_time.observe(re_compute, names=\"value\")"
   ]
  },
  {
   "cell_type": "code",
   "execution_count": 9,
   "metadata": {},
   "outputs": [
    {
     "data": {
      "application/vnd.jupyter.widget-view+json": {
       "model_id": "272d99d4a2a6463fb94d60c292739445"
      }
     },
     "metadata": {},
     "output_type": "display_data"
    },
    {
     "data": {
      "application/vnd.jupyter.widget-view+json": {
       "model_id": "94e8ba88d4094d20b8d17c752f82f320"
      }
     },
     "metadata": {},
     "output_type": "display_data"
    },
    {
     "name": "stdout",
     "output_type": "stream",
     "text": [
      "[8559L, 8493L, 8122L]\n"
     ]
    }
   ],
   "source": [
    "display(container)\n",
    "display(g)"
   ]
  },
  {
   "cell_type": "code",
   "execution_count": null,
   "metadata": {
    "collapsed": true
   },
   "outputs": [],
   "source": []
  },
  {
   "cell_type": "code",
   "execution_count": null,
   "metadata": {
    "collapsed": true
   },
   "outputs": [],
   "source": []
  }
 ],
 "metadata": {
  "anaconda-cloud": {},
  "kernelspec": {
   "display_name": "Python [default]",
   "language": "python",
   "name": "python2"
  },
  "language_info": {
   "codemirror_mode": {
    "name": "ipython",
    "version": 2
   },
   "file_extension": ".py",
   "mimetype": "text/x-python",
   "name": "python",
   "nbconvert_exporter": "python",
   "pygments_lexer": "ipython2",
   "version": "2.7.12"
  }
 },
 "nbformat": 4,
 "nbformat_minor": 2
}
