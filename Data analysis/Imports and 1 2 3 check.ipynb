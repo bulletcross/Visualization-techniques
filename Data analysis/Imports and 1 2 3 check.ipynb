{
 "cells": [
  {
   "cell_type": "code",
   "execution_count": null,
   "metadata": {
    "collapsed": false
   },
   "outputs": [],
   "source": [
    "#URL: https://dev.socrata.com/blog/2016/02/02/plotly-pandas.html\n",
    "\n",
    "import pandas as pd\n",
    "import numpy as np\n",
    "import matplotlib\n",
    "import cufflinks as cf\n",
    "import plotly\n",
    "import plotly.offline as py\n",
    "import plotly.graph_objs as go\n",
    "\n",
    "cf.go_offline() # required to use plotly offline (no account required).\n",
    "py.init_notebook_mode() # graphs charts inline (IPython)."
   ]
  },
  {
   "cell_type": "code",
   "execution_count": null,
   "metadata": {
    "collapsed": true
   },
   "outputs": [],
   "source": [
    "url = 'https://data.cityofnewyork.us/resource/qiz3-axqb.json?$limit=1000000&\\\n",
    "$where=date%20between%20%272014-01-01T00:00:00%27%20and%20%272015-01-01T00:00:00%27'\n",
    "collisions = pd.read_json(url)"
   ]
  },
  {
   "cell_type": "code",
   "execution_count": null,
   "metadata": {
    "collapsed": false
   },
   "outputs": [],
   "source": [
    "\n",
    "\n",
    "contributing_factors = pd.concat(\n",
    "          [collisions.contributing_factor_vehicle_1,\n",
    "           collisions.contributing_factor_vehicle_2,\n",
    "           collisions.contributing_factor_vehicle_3,\n",
    "           collisions.contributing_factor_vehicle_4,\n",
    "           collisions.contributing_factor_vehicle_5])\n",
    "\n",
    "contributing_factors.value_counts().iplot(kind='bar')\n"
   ]
  },
  {
   "cell_type": "code",
   "execution_count": null,
   "metadata": {
    "collapsed": false
   },
   "outputs": [],
   "source": [
    "temp = pd.DataFrame({'contributing_factors':contributing_factors.value_counts()})\n",
    "df = temp[temp.index != 'Unspecified']\n",
    "df = df.sort_values(by='contributing_factors', ascending=True)\n",
    "data  = go.Data([\n",
    "            go.Bar(\n",
    "              y = df.index,\n",
    "              x = df.contributing_factors,\n",
    "              orientation='h'\n",
    "        )])\n",
    "layout = go.Layout(\n",
    "        height = '1000',\n",
    "        margin=go.Margin(l=300),\n",
    "        title = \"Contributing Factors for Vehicle Collisions in 2015\"\n",
    ")\n",
    "fig  = go.Figure(data=data, layout=layout)\n",
    "py.iplot(fig)"
   ]
  },
  {
   "cell_type": "code",
   "execution_count": null,
   "metadata": {
    "collapsed": false
   },
   "outputs": [],
   "source": [
    "collisions.date = pd.to_datetime(collisions.date)\n",
    "collisions.date.sort_values().index\n",
    "df_by_date = collisions.ix[collisions.date.sort_values().index]\n",
    "\n",
    "collisions_by_date = df_by_date.groupby('date').date.count()\n",
    "collisions_by_date.iplot(kind='scatter', title='Collisions Per Day')\n",
    "\n",
    "deaths_by_date = df_by_date.groupby('date')['number_of_persons_killed'].sum()\n",
    "deaths_by_date.iplot(kind='bar', title='Deaths per Day')"
   ]
  },
  {
   "cell_type": "code",
   "execution_count": null,
   "metadata": {
    "collapsed": true
   },
   "outputs": [],
   "source": []
  }
 ],
 "metadata": {
  "anaconda-cloud": {},
  "kernelspec": {
   "display_name": "Python [default]",
   "language": "python",
   "name": "python2"
  },
  "language_info": {
   "codemirror_mode": {
    "name": "ipython",
    "version": 2
   },
   "file_extension": ".py",
   "mimetype": "text/x-python",
   "name": "python",
   "nbconvert_exporter": "python",
   "pygments_lexer": "ipython2",
   "version": "2.7.12"
  }
 },
 "nbformat": 4,
 "nbformat_minor": 1
}
