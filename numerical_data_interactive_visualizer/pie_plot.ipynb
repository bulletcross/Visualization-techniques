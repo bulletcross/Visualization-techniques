{
 "cells": [
  {
   "cell_type": "code",
   "execution_count": null,
   "metadata": {},
   "outputs": [],
   "source": [
    "import plotly\n",
    "import plotly.offline as py\n",
    "import plotly.graph_objs as go\n",
    "py.init_notebook_mode(connected=True)\n"
   ]
  },
  {
   "cell_type": "code",
   "execution_count": null,
   "metadata": {},
   "outputs": [],
   "source": [
    "\n",
    "labels = ['Oxygen','Hydrogen','Carbon_Dioxide','Nitrogen']\n",
    "values = [4500,2500,1053,500]\n",
    "domains = [\n",
    "    {'x': [0.0, 0.33], 'y': [0.0, 0.33]},\n",
    "    {'x': [0.0, 0.33], 'y': [0.33, 0.66]},\n",
    "    {'x': [0.0, 0.33], 'y': [0.66, 1.0]},\n",
    "    {'x': [0.33, 0.66], 'y': [0.0, 0.33]},\n",
    "    {'x': [0.66, 1.0], 'y': [0.0, 0.33]},\n",
    "    {'x': [0.33, 1.0], 'y': [0.33, 1.0]}\n",
    "]\n",
    "traces = []\n",
    "\n",
    "for domain in domains:\n",
    "    trace = go.Pie(labels = labels,\n",
    "                   values = values,\n",
    "                   domain = domain,\n",
    "                   hoverinfo = 'label+percent+name')\n",
    "    traces.append(trace)\n",
    "\n",
    "layout = go.Layout(height = 600,\n",
    "                   width = 600,\n",
    "                   autosize = False,\n",
    "                   title = 'Main title')\n",
    "fig = go.Figure(data = traces, layout = layout)\n",
    "py.iplot(fig, show_link = False)"
   ]
  },
  {
   "cell_type": "code",
   "execution_count": null,
   "metadata": {
    "collapsed": true
   },
   "outputs": [],
   "source": []
  }
 ],
 "metadata": {
  "anaconda-cloud": {},
  "kernelspec": {
   "display_name": "Python [conda root]",
   "language": "python",
   "name": "conda-root-py"
  },
  "language_info": {
   "codemirror_mode": {
    "name": "ipython",
    "version": 2
   },
   "file_extension": ".py",
   "mimetype": "text/x-python",
   "name": "python",
   "nbconvert_exporter": "python",
   "pygments_lexer": "ipython2",
   "version": "2.7.12"
  }
 },
 "nbformat": 4,
 "nbformat_minor": 2
}
